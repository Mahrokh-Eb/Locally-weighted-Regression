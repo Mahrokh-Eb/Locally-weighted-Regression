{
 "cells": [
  {
   "cell_type": "markdown",
   "metadata": {},
   "source": [
    "# Locally weighted Regression:"
   ]
  },
  {
   "cell_type": "code",
   "execution_count": 50,
   "metadata": {},
   "outputs": [],
   "source": [
    "import math\n",
    "import numpy as np\n",
    "import matplotlib.pyplot as plt"
   ]
  },
  {
   "cell_type": "code",
   "execution_count": 51,
   "metadata": {},
   "outputs": [],
   "source": [
    "# # def lowess(x, y, f=2. / 3., iter=3):\n",
    "# #     \"\"\"lowess(x, y, f=2./3., iter=3) -> yest\n",
    "# #     Lowess smoother: Robust locally weighted regression.\n",
    "# #     The lowess function fits a nonparametric regression curve to a scatterplot.\n",
    "# #     The arrays x and y contain an equal number of elements; each pair\n",
    "# #     (x[i], y[i]) defines a data point in the scatterplot. The function returns\n",
    "# #     the estimated (smooth) values of y.\n",
    "# #     The smoothing span is given by f. A larger value for f will result in a\n",
    "# #     smoother curve. The number of robustifying iterations is given by iter. The\n",
    "# #     function will run faster with a smaller number of iterations.\n",
    "#     \"\"\"\n",
    "# #     n = len(x)\n",
    "# #     r = int(ceil(f * n))\n",
    "# #     h = [np.sort(np.abs(x - x[i]))[r] for i in range(n)]\n",
    "# #     w = np.clip(np.abs((x[:, None] - x[None, :]) / h), 0.0, 1.0)\n",
    "# #     w = (1 - w ** 3) ** 3\n",
    "# #     yest = np.zeros(n)\n",
    "# #     delta = np.ones(n)\n",
    "# #     for iteration in range(iter):\n",
    "# #         for i in range(n):\n",
    "# #             weights = delta * w[:, i]\n",
    "# #             b = np.array([np.sum(weights * y), np.sum(weights * y * x)])\n",
    "# #             A = np.array([[np.sum(weights), np.sum(weights * x)],\n",
    "# #                           [np.sum(weights * x), np.sum(weights * x * x)]])\n",
    "# #             beta = linalg.solve(A, b)\n",
    "# #             yest[i] = beta[0] + beta[1] * x[i]\n",
    "\n",
    "# #         residuals = y - yest\n",
    "# #         s = np.median(np.abs(residuals))\n",
    "# #         delta = np.clip(residuals / (6.0 * s), -1, 1)\n",
    "# #         delta = (1 - delta ** 2) ** 2\n",
    "\n",
    "# #     return yest"
   ]
  },
  {
   "cell_type": "code",
   "execution_count": 52,
   "metadata": {},
   "outputs": [],
   "source": [
    "def lowess(x, y, f=2. / 3., iter=3):\n",
    "    \"\"\"Robust locally weighted regression.\n",
    "\n",
    "    Inputs:\n",
    "       - x, y: dataset\n",
    "       - f: smoothing parameter\n",
    "       - iter: number of robustifying iterations\n",
    "    \"\"\"\n",
    "    n = len(x)\n",
    "    r = int(math.ceil(f * n))\n",
    "    h = [np.sort(np.abs(x - x[i]))[r] for i in range(n)]\n",
    "    w = np.clip(np.abs((x[:, None] - x[None, :]) / h), 0.0, 1.0)\n",
    "    w = (1 - w ** 3) ** 3\n",
    "    y_pred = np.zeros(n)\n",
    "    delta = np.ones(n)\n",
    "    for iteration in range(iter):\n",
    "        for i in range(n):\n",
    "            weights = delta * w[:, i]\n",
    "            b = np.array([np.sum(weights * y), np.sum(weights * y * x)])\n",
    "            A = np.array([[np.sum(weights), np.sum(weights * x)],\n",
    "                          [np.sum(weights * x), np.sum(weights * x * x)]])\n",
    "            beta = np.linalg.solve(A, b)\n",
    "            y_pred[i] = beta[0] + beta[1] * x[i]\n",
    "\n",
    "        residuals = y - y_pred\n",
    "        s = np.median(np.abs(residuals))\n",
    "        delta = np.clip(residuals / (6.0 * s), -1, 1)\n",
    "        delta = (1 - delta ** 2) ** 2\n",
    "\n",
    "    return y_pred"
   ]
  },
  {
   "cell_type": "code",
   "execution_count": 53,
   "metadata": {},
   "outputs": [],
   "source": [
    "n = 100\n",
    "x = np.linspace(0, 2*math.pi, n)\n",
    "y = np.sin(x) + 0.6 *np.random.rand(n)"
   ]
  },
  {
   "cell_type": "code",
   "execution_count": 58,
   "metadata": {},
   "outputs": [],
   "source": [
    "y_pred = lowess(x, y, f=0.5, iter=3) # 0<F-num<1 , larrger=smoother, smaller=more zigzaki"
   ]
  },
  {
   "cell_type": "code",
   "execution_count": 59,
   "metadata": {},
   "outputs": [
    {
     "data": {
      "image/png": "[encoded data removed]",
      "text/plain": [
       "<Figure size 432x288 with 1 Axes>"
      ]
     },
     "metadata": {
      "needs_background": "light"
     },
     "output_type": "display_data"
    }
   ],
   "source": [
    "plt.scatter(x, y, s=10, c='r', marker= 'x')\n",
    "plt.plot(x, y_pred)\n",
    "plt.show()\n"
   ]
  },
  {
   "cell_type": "code",
   "execution_count": null,
   "metadata": {},
   "outputs": [],
   "source": []
  }
 ],
 "metadata": {
  "kernelspec": {
   "display_name": "Python 3",
   "language": "python",
   "name": "python3"
  },
  "language_info": {
   "codemirror_mode": {
    "name": "ipython",
    "version": 3
   },
   "file_extension": ".py",
   "mimetype": "text/x-python",
   "name": "python",
   "nbconvert_exporter": "python",
   "pygments_lexer": "ipython3",
   "version": "3.7.4"
  }
 },
 "nbformat": 4,
 "nbformat_minor": 2
}
